{
 "cells": [
  {
   "cell_type": "markdown",
   "metadata": {
    "colab_type": "text",
    "id": "view-in-github"
   },
   "source": [
    "<a href=\"https://colab.research.google.com/github/nicenkhoma/webscraping/blob/main/web_scraping.ipynb\" target=\"_parent\"><img src=\"https://colab.research.google.com/assets/colab-badge.svg\" alt=\"Open In Colab\"/></a>"
   ]
  },
  {
   "cell_type": "code",
   "execution_count": 1,
   "metadata": {
    "id": "6geXyDu965Nm"
   },
   "outputs": [],
   "source": [
    "import requests\n",
    "from bs4 import BeautifulSoup"
   ]
  },
  {
   "cell_type": "code",
   "execution_count": 2,
   "metadata": {
    "id": "Gct9SK9y7G-w"
   },
   "outputs": [],
   "source": [
    "url='https://www.flipkart.com/search?q=samsung&as=on&as-show=on&otracker=AS_Query_OrganicAutoSuggest_5_2_na_na_na&otracker1=AS_Query_OrganicAutoSuggest_5_2_na_na_na&as-pos=5&as-type=RECENT&suggestionId=samsung&requestId=1d2347f3-eed6-491f-860a-3986a157f7ec&as-searchtext=sa&p%5B%5D=facets.brand%255B%255D%3DSAMSUNG&p%5B%5D=facets.ram%255B%255D%3D4%2BGB&p%5B%5D=facets.ram%255B%255D%3D3%2BGB&p%5B%5D=facets.ram%255B%255D%3D2%2BGB&p%5B%5D=facets.ram%255B%255D%3D8%2BGB%2Band%2BAbove&p%5B%5D=facets.ram%255B%255D%3D6%2BGB'"
   ]
  },
  {
   "cell_type": "code",
   "execution_count": 4,
   "metadata": {},
   "outputs": [],
   "source": [
    "response=requests.get(url)"
   ]
  },
  {
   "cell_type": "code",
   "execution_count": 5,
   "metadata": {},
   "outputs": [
    {
     "data": {
      "text/plain": [
       "<Response [200]>"
      ]
     },
     "execution_count": 5,
     "metadata": {},
     "output_type": "execute_result"
    }
   ],
   "source": [
    "response"
   ]
  },
  {
   "cell_type": "code",
   "execution_count": 7,
   "metadata": {},
   "outputs": [],
   "source": [
    "soup=BeautifulSoup(response.content,'html.parser')"
   ]
  },
  {
   "cell_type": "code",
   "execution_count": 9,
   "metadata": {},
   "outputs": [],
   "source": [
    "# soup"
   ]
  },
  {
   "cell_type": "code",
   "execution_count": 17,
   "metadata": {},
   "outputs": [],
   "source": [
    "divs=soup':'co.find_all('div',{'classl col-7-12'})"
   ]
  },
  {
   "cell_type": "code",
   "execution_count": 19,
   "metadata": {},
   "outputs": [
    {
     "data": {
      "text/plain": [
       "'SAMSUNG Galaxy F23 5G (Forest Green, 128 GB)'"
      ]
     },
     "execution_count": 19,
     "metadata": {},
     "output_type": "execute_result"
    }
   ],
   "source": [
    "divs[0].find('div',{'class':'_4rR01T'}).text"
   ]
  },
  {
   "cell_type": "code",
   "execution_count": 21,
   "metadata": {},
   "outputs": [],
   "source": [
    "phones=[]\n",
    "\n",
    "for div in divs:\n",
    "    phones.append(div.find('div',{'class':'_4rR01T'}).text)"
   ]
  },
  {
   "cell_type": "code",
   "execution_count": 24,
   "metadata": {},
   "outputs": [],
   "source": [
    "# phones"
   ]
  },
  {
   "cell_type": "code",
   "execution_count": 30,
   "metadata": {},
   "outputs": [
    {
     "data": {
      "text/plain": [
       "'6'"
      ]
     },
     "execution_count": 30,
     "metadata": {},
     "output_type": "execute_result"
    }
   ],
   "source": [
    "divs[0].find('li',{'class':'rgWa7D'}).text.split('|')[0].split()[0]"
   ]
  },
  {
   "cell_type": "code",
   "execution_count": 37,
   "metadata": {},
   "outputs": [
    {
     "data": {
      "text/plain": [
       "'128'"
      ]
     },
     "execution_count": 37,
     "metadata": {},
     "output_type": "execute_result"
    }
   ],
   "source": [
    "divs[0].find('li',{'class':'rgWa7D'}).text.split('|')[1].split()[0]"
   ]
  },
  {
   "cell_type": "code",
   "execution_count": 41,
   "metadata": {},
   "outputs": [],
   "source": [
    "ram=[]\n",
    "rom=[]\n",
    "phones=[]\n",
    "for div in divs:\n",
    "    phones.append(div.find('div',{'class':'_4rR01T'}).text)\n",
    "    ram.append(int(div.find('li',{'class':'rgWa7D'}).text.split('|')[0].split()[0]))\n",
    "    rom.append(int(div.find('li',{'class':'rgWa7D'}).text.split('|')[1].split()[0]))"
   ]
  },
  {
   "cell_type": "code",
   "execution_count": 44,
   "metadata": {},
   "outputs": [],
   "source": [
    "divPrice=soup.find_all('div',class_='_30jeq3 _1_WHN1')"
   ]
  },
  {
   "cell_type": "code",
   "execution_count": 50,
   "metadata": {},
   "outputs": [
    {
     "data": {
      "text/plain": [
       "13499"
      ]
     },
     "execution_count": 50,
     "metadata": {},
     "output_type": "execute_result"
    }
   ],
   "source": [
    "int(divPrice[0].text.replace('₹','').replace(',',''))"
   ]
  },
  {
   "cell_type": "code",
   "execution_count": 52,
   "metadata": {},
   "outputs": [],
   "source": [
    "prices=[]\n",
    "\n",
    "for price in divPrice:\n",
    "    prices.append(int(price.text.replace('₹','').replace(',','')))"
   ]
  },
  {
   "cell_type": "code",
   "execution_count": 54,
   "metadata": {},
   "outputs": [],
   "source": [
    "# prices"
   ]
  },
  {
   "cell_type": "code",
   "execution_count": 40,
   "metadata": {},
   "outputs": [
    {
     "data": {
      "text/plain": [
       "[6, 6, 6, 6, 4, 6, 4, 6, 6, 4, 4, 4, 4, 6, 6, 4, 4, 4, 4, 4, 4, 4, 4, 4]"
      ]
     },
     "execution_count": 40,
     "metadata": {},
     "output_type": "execute_result"
    }
   ],
   "source": [
    "ram"
   ]
  },
  {
   "cell_type": "code",
   "execution_count": 42,
   "metadata": {
    "scrolled": true
   },
   "outputs": [
    {
     "data": {
      "text/plain": [
       "['SAMSUNG Galaxy F23 5G (Forest Green, 128 GB)',\n",
       " 'SAMSUNG Galaxy A12 (Blue, 128 GB)',\n",
       " 'SAMSUNG Galaxy F23 5G (Copper Blush, 128 GB)',\n",
       " 'SAMSUNG Galaxy F23 5G (Aqua Blue, 128 GB)',\n",
       " 'SAMSUNG Galaxy F22 (Denim Blue, 64 GB)',\n",
       " 'SAMSUNG Galaxy F22 (Denim Black, 128 GB)',\n",
       " 'SAMSUNG Galaxy F22 (Denim Black, 64 GB)',\n",
       " 'SAMSUNG Galaxy A12 (Black, 128 GB)',\n",
       " 'SAMSUNG Galaxy F22 (Denim Blue, 128 GB)',\n",
       " 'SAMSUNG Galaxy F23 5G (Copper Blush, 128 GB)',\n",
       " 'SAMSUNG Galaxy F23 5G (Forest Green, 128 GB)',\n",
       " 'SAMSUNG Galaxy F13 (Waterfall Blue, 64 GB)',\n",
       " 'SAMSUNG Galaxy F13 (Sunrise Copper, 64 GB)',\n",
       " 'SAMSUNG Galaxy M52 5G (Icy Blue, 128 GB)',\n",
       " 'SAMSUNG Galaxy M33 5G (Deep Ocean Blue, 128 GB)',\n",
       " 'SAMSUNG Galaxy F23 5G (Aqua Blue, 128 GB)',\n",
       " 'SAMSUNG Galaxy F13 (Nightsky Green, 64 GB)',\n",
       " 'SAMSUNG GALAXY M13 (Aqua Green, 64 GB)',\n",
       " 'SAMSUNG GALAXY M13 (Midnight Blue, 64 GB)',\n",
       " 'SAMSUNG Galaxy F12 (Sky Blue, 64 GB)',\n",
       " 'SAMSUNG Galaxy M12 (Black, 64 GB)',\n",
       " 'SAMSUNG Galaxy F12 (Sky Blue, 128 GB)',\n",
       " 'SAMSUNG Galaxy F13 (Nightsky Green, 128 GB)',\n",
       " 'SAMSUNG Galaxy F13 (Waterfall Blue, 128 GB)']"
      ]
     },
     "execution_count": 42,
     "metadata": {},
     "output_type": "execute_result"
    }
   ],
   "source": [
    "phones"
   ]
  },
  {
   "cell_type": "code",
   "execution_count": 57,
   "metadata": {},
   "outputs": [],
   "source": [
    "import pandas as pd"
   ]
  },
  {
   "cell_type": "code",
   "execution_count": 58,
   "metadata": {},
   "outputs": [],
   "source": [
    "phone_dict={\n",
    "    'phones':[],\n",
    "    'ram':[],\n",
    "    'rom':[],\n",
    "    'prices':[]\n",
    "}\n",
    "def repository(phones,ram,rom,prices):\n",
    "    phone_dict['phones'].extend(phones)\n",
    "    phone_dict['ram'].extend(ram)\n",
    "    phone_dict['rom'].extend(rom)\n",
    "    phone_dict['prices'].extend(prices)\n",
    "    \n",
    "    \n",
    "    return pd.DataFrame(phone_dict)\n",
    "\n"
   ]
  },
  {
   "cell_type": "code",
   "execution_count": 59,
   "metadata": {},
   "outputs": [],
   "source": [
    "df=repository(phones,ram,rom,prices)"
   ]
  },
  {
   "cell_type": "code",
   "execution_count": 60,
   "metadata": {},
   "outputs": [
    {
     "data": {
      "text/html": [
       "<div>\n",
       "<style scoped>\n",
       "    .dataframe tbody tr th:only-of-type {\n",
       "        vertical-align: middle;\n",
       "    }\n",
       "\n",
       "    .dataframe tbody tr th {\n",
       "        vertical-align: top;\n",
       "    }\n",
       "\n",
       "    .dataframe thead th {\n",
       "        text-align: right;\n",
       "    }\n",
       "</style>\n",
       "<table border=\"1\" class=\"dataframe\">\n",
       "  <thead>\n",
       "    <tr style=\"text-align: right;\">\n",
       "      <th></th>\n",
       "      <th>phones</th>\n",
       "      <th>ram</th>\n",
       "      <th>rom</th>\n",
       "      <th>prices</th>\n",
       "    </tr>\n",
       "  </thead>\n",
       "  <tbody>\n",
       "    <tr>\n",
       "      <th>0</th>\n",
       "      <td>SAMSUNG Galaxy F23 5G (Forest Green, 128 GB)</td>\n",
       "      <td>6</td>\n",
       "      <td>128</td>\n",
       "      <td>13499</td>\n",
       "    </tr>\n",
       "    <tr>\n",
       "      <th>1</th>\n",
       "      <td>SAMSUNG Galaxy A12 (Blue, 128 GB)</td>\n",
       "      <td>6</td>\n",
       "      <td>128</td>\n",
       "      <td>13499</td>\n",
       "    </tr>\n",
       "    <tr>\n",
       "      <th>2</th>\n",
       "      <td>SAMSUNG Galaxy F23 5G (Copper Blush, 128 GB)</td>\n",
       "      <td>6</td>\n",
       "      <td>128</td>\n",
       "      <td>13499</td>\n",
       "    </tr>\n",
       "    <tr>\n",
       "      <th>3</th>\n",
       "      <td>SAMSUNG Galaxy F23 5G (Aqua Blue, 128 GB)</td>\n",
       "      <td>6</td>\n",
       "      <td>128</td>\n",
       "      <td>13499</td>\n",
       "    </tr>\n",
       "    <tr>\n",
       "      <th>4</th>\n",
       "      <td>SAMSUNG Galaxy F22 (Denim Blue, 64 GB)</td>\n",
       "      <td>4</td>\n",
       "      <td>64</td>\n",
       "      <td>11999</td>\n",
       "    </tr>\n",
       "    <tr>\n",
       "      <th>5</th>\n",
       "      <td>SAMSUNG Galaxy F22 (Denim Black, 128 GB)</td>\n",
       "      <td>6</td>\n",
       "      <td>128</td>\n",
       "      <td>13999</td>\n",
       "    </tr>\n",
       "    <tr>\n",
       "      <th>6</th>\n",
       "      <td>SAMSUNG Galaxy F22 (Denim Black, 64 GB)</td>\n",
       "      <td>4</td>\n",
       "      <td>64</td>\n",
       "      <td>11999</td>\n",
       "    </tr>\n",
       "    <tr>\n",
       "      <th>7</th>\n",
       "      <td>SAMSUNG Galaxy A12 (Black, 128 GB)</td>\n",
       "      <td>6</td>\n",
       "      <td>128</td>\n",
       "      <td>13499</td>\n",
       "    </tr>\n",
       "    <tr>\n",
       "      <th>8</th>\n",
       "      <td>SAMSUNG Galaxy F22 (Denim Blue, 128 GB)</td>\n",
       "      <td>6</td>\n",
       "      <td>128</td>\n",
       "      <td>13999</td>\n",
       "    </tr>\n",
       "    <tr>\n",
       "      <th>9</th>\n",
       "      <td>SAMSUNG Galaxy F23 5G (Copper Blush, 128 GB)</td>\n",
       "      <td>4</td>\n",
       "      <td>128</td>\n",
       "      <td>12499</td>\n",
       "    </tr>\n",
       "    <tr>\n",
       "      <th>10</th>\n",
       "      <td>SAMSUNG Galaxy F23 5G (Forest Green, 128 GB)</td>\n",
       "      <td>4</td>\n",
       "      <td>128</td>\n",
       "      <td>12499</td>\n",
       "    </tr>\n",
       "    <tr>\n",
       "      <th>11</th>\n",
       "      <td>SAMSUNG Galaxy F13 (Waterfall Blue, 64 GB)</td>\n",
       "      <td>4</td>\n",
       "      <td>64</td>\n",
       "      <td>11999</td>\n",
       "    </tr>\n",
       "    <tr>\n",
       "      <th>12</th>\n",
       "      <td>SAMSUNG Galaxy F13 (Sunrise Copper, 64 GB)</td>\n",
       "      <td>4</td>\n",
       "      <td>64</td>\n",
       "      <td>11999</td>\n",
       "    </tr>\n",
       "    <tr>\n",
       "      <th>13</th>\n",
       "      <td>SAMSUNG Galaxy M52 5G (Icy Blue, 128 GB)</td>\n",
       "      <td>6</td>\n",
       "      <td>128</td>\n",
       "      <td>22499</td>\n",
       "    </tr>\n",
       "    <tr>\n",
       "      <th>14</th>\n",
       "      <td>SAMSUNG Galaxy M33 5G (Deep Ocean Blue, 128 GB)</td>\n",
       "      <td>6</td>\n",
       "      <td>128</td>\n",
       "      <td>18385</td>\n",
       "    </tr>\n",
       "    <tr>\n",
       "      <th>15</th>\n",
       "      <td>SAMSUNG Galaxy F23 5G (Aqua Blue, 128 GB)</td>\n",
       "      <td>4</td>\n",
       "      <td>128</td>\n",
       "      <td>12499</td>\n",
       "    </tr>\n",
       "    <tr>\n",
       "      <th>16</th>\n",
       "      <td>SAMSUNG Galaxy F13 (Nightsky Green, 64 GB)</td>\n",
       "      <td>4</td>\n",
       "      <td>64</td>\n",
       "      <td>11999</td>\n",
       "    </tr>\n",
       "    <tr>\n",
       "      <th>17</th>\n",
       "      <td>SAMSUNG GALAXY M13 (Aqua Green, 64 GB)</td>\n",
       "      <td>4</td>\n",
       "      <td>64</td>\n",
       "      <td>11995</td>\n",
       "    </tr>\n",
       "    <tr>\n",
       "      <th>18</th>\n",
       "      <td>SAMSUNG GALAXY M13 (Midnight Blue, 64 GB)</td>\n",
       "      <td>4</td>\n",
       "      <td>64</td>\n",
       "      <td>12999</td>\n",
       "    </tr>\n",
       "    <tr>\n",
       "      <th>19</th>\n",
       "      <td>SAMSUNG Galaxy F12 (Sky Blue, 64 GB)</td>\n",
       "      <td>4</td>\n",
       "      <td>64</td>\n",
       "      <td>11499</td>\n",
       "    </tr>\n",
       "    <tr>\n",
       "      <th>20</th>\n",
       "      <td>SAMSUNG Galaxy M12 (Black, 64 GB)</td>\n",
       "      <td>4</td>\n",
       "      <td>64</td>\n",
       "      <td>11745</td>\n",
       "    </tr>\n",
       "    <tr>\n",
       "      <th>21</th>\n",
       "      <td>SAMSUNG Galaxy F12 (Sky Blue, 128 GB)</td>\n",
       "      <td>4</td>\n",
       "      <td>128</td>\n",
       "      <td>12499</td>\n",
       "    </tr>\n",
       "    <tr>\n",
       "      <th>22</th>\n",
       "      <td>SAMSUNG Galaxy F13 (Nightsky Green, 128 GB)</td>\n",
       "      <td>4</td>\n",
       "      <td>128</td>\n",
       "      <td>12999</td>\n",
       "    </tr>\n",
       "    <tr>\n",
       "      <th>23</th>\n",
       "      <td>SAMSUNG Galaxy F13 (Waterfall Blue, 128 GB)</td>\n",
       "      <td>4</td>\n",
       "      <td>128</td>\n",
       "      <td>12999</td>\n",
       "    </tr>\n",
       "  </tbody>\n",
       "</table>\n",
       "</div>"
      ],
      "text/plain": [
       "                                             phones  ram  rom  prices\n",
       "0      SAMSUNG Galaxy F23 5G (Forest Green, 128 GB)    6  128   13499\n",
       "1                 SAMSUNG Galaxy A12 (Blue, 128 GB)    6  128   13499\n",
       "2      SAMSUNG Galaxy F23 5G (Copper Blush, 128 GB)    6  128   13499\n",
       "3         SAMSUNG Galaxy F23 5G (Aqua Blue, 128 GB)    6  128   13499\n",
       "4            SAMSUNG Galaxy F22 (Denim Blue, 64 GB)    4   64   11999\n",
       "5          SAMSUNG Galaxy F22 (Denim Black, 128 GB)    6  128   13999\n",
       "6           SAMSUNG Galaxy F22 (Denim Black, 64 GB)    4   64   11999\n",
       "7                SAMSUNG Galaxy A12 (Black, 128 GB)    6  128   13499\n",
       "8           SAMSUNG Galaxy F22 (Denim Blue, 128 GB)    6  128   13999\n",
       "9      SAMSUNG Galaxy F23 5G (Copper Blush, 128 GB)    4  128   12499\n",
       "10     SAMSUNG Galaxy F23 5G (Forest Green, 128 GB)    4  128   12499\n",
       "11       SAMSUNG Galaxy F13 (Waterfall Blue, 64 GB)    4   64   11999\n",
       "12       SAMSUNG Galaxy F13 (Sunrise Copper, 64 GB)    4   64   11999\n",
       "13         SAMSUNG Galaxy M52 5G (Icy Blue, 128 GB)    6  128   22499\n",
       "14  SAMSUNG Galaxy M33 5G (Deep Ocean Blue, 128 GB)    6  128   18385\n",
       "15        SAMSUNG Galaxy F23 5G (Aqua Blue, 128 GB)    4  128   12499\n",
       "16       SAMSUNG Galaxy F13 (Nightsky Green, 64 GB)    4   64   11999\n",
       "17           SAMSUNG GALAXY M13 (Aqua Green, 64 GB)    4   64   11995\n",
       "18        SAMSUNG GALAXY M13 (Midnight Blue, 64 GB)    4   64   12999\n",
       "19             SAMSUNG Galaxy F12 (Sky Blue, 64 GB)    4   64   11499\n",
       "20                SAMSUNG Galaxy M12 (Black, 64 GB)    4   64   11745\n",
       "21            SAMSUNG Galaxy F12 (Sky Blue, 128 GB)    4  128   12499\n",
       "22      SAMSUNG Galaxy F13 (Nightsky Green, 128 GB)    4  128   12999\n",
       "23      SAMSUNG Galaxy F13 (Waterfall Blue, 128 GB)    4  128   12999"
      ]
     },
     "execution_count": 60,
     "metadata": {},
     "output_type": "execute_result"
    }
   ],
   "source": [
    "df"
   ]
  },
  {
   "cell_type": "code",
   "execution_count": 61,
   "metadata": {},
   "outputs": [],
   "source": [
    "df.to_csv('phones.csv',index=False)"
   ]
  },
  {
   "cell_type": "code",
   "execution_count": 62,
   "metadata": {},
   "outputs": [],
   "source": [
    "import seaborn as sns\n",
    "import matplotlib.pyplot as plt"
   ]
  },
  {
   "cell_type": "code",
   "execution_count": 64,
   "metadata": {},
   "outputs": [
    {
     "data": {
      "text/html": [
       "<div>\n",
       "<style scoped>\n",
       "    .dataframe tbody tr th:only-of-type {\n",
       "        vertical-align: middle;\n",
       "    }\n",
       "\n",
       "    .dataframe tbody tr th {\n",
       "        vertical-align: top;\n",
       "    }\n",
       "\n",
       "    .dataframe thead th {\n",
       "        text-align: right;\n",
       "    }\n",
       "</style>\n",
       "<table border=\"1\" class=\"dataframe\">\n",
       "  <thead>\n",
       "    <tr style=\"text-align: right;\">\n",
       "      <th></th>\n",
       "      <th>ram</th>\n",
       "      <th>rom</th>\n",
       "      <th>prices</th>\n",
       "    </tr>\n",
       "  </thead>\n",
       "  <tbody>\n",
       "    <tr>\n",
       "      <th>count</th>\n",
       "      <td>24.000000</td>\n",
       "      <td>24.000000</td>\n",
       "      <td>24.0000</td>\n",
       "    </tr>\n",
       "    <tr>\n",
       "      <th>mean</th>\n",
       "      <td>4.750000</td>\n",
       "      <td>104.000000</td>\n",
       "      <td>13358.5000</td>\n",
       "    </tr>\n",
       "    <tr>\n",
       "      <th>std</th>\n",
       "      <td>0.989071</td>\n",
       "      <td>31.650263</td>\n",
       "      <td>2379.6032</td>\n",
       "    </tr>\n",
       "    <tr>\n",
       "      <th>min</th>\n",
       "      <td>4.000000</td>\n",
       "      <td>64.000000</td>\n",
       "      <td>11499.0000</td>\n",
       "    </tr>\n",
       "    <tr>\n",
       "      <th>25%</th>\n",
       "      <td>4.000000</td>\n",
       "      <td>64.000000</td>\n",
       "      <td>11999.0000</td>\n",
       "    </tr>\n",
       "    <tr>\n",
       "      <th>50%</th>\n",
       "      <td>4.000000</td>\n",
       "      <td>128.000000</td>\n",
       "      <td>12749.0000</td>\n",
       "    </tr>\n",
       "    <tr>\n",
       "      <th>75%</th>\n",
       "      <td>6.000000</td>\n",
       "      <td>128.000000</td>\n",
       "      <td>13499.0000</td>\n",
       "    </tr>\n",
       "    <tr>\n",
       "      <th>max</th>\n",
       "      <td>6.000000</td>\n",
       "      <td>128.000000</td>\n",
       "      <td>22499.0000</td>\n",
       "    </tr>\n",
       "  </tbody>\n",
       "</table>\n",
       "</div>"
      ],
      "text/plain": [
       "             ram         rom      prices\n",
       "count  24.000000   24.000000     24.0000\n",
       "mean    4.750000  104.000000  13358.5000\n",
       "std     0.989071   31.650263   2379.6032\n",
       "min     4.000000   64.000000  11499.0000\n",
       "25%     4.000000   64.000000  11999.0000\n",
       "50%     4.000000  128.000000  12749.0000\n",
       "75%     6.000000  128.000000  13499.0000\n",
       "max     6.000000  128.000000  22499.0000"
      ]
     },
     "execution_count": 64,
     "metadata": {},
     "output_type": "execute_result"
    }
   ],
   "source": [
    "df.describe()"
   ]
  },
  {
   "cell_type": "code",
   "execution_count": 66,
   "metadata": {},
   "outputs": [
    {
     "data": {
      "text/plain": [
       "<AxesSubplot:xlabel='prices', ylabel='rom'>"
      ]
     },
     "execution_count": 66,
     "metadata": {},
     "output_type": "execute_result"
    },
    {
     "data": {
      "image/png": "[encoded data removed]",
      "text/plain": [
       "<Figure size 432x288 with 1 Axes>"
      ]
     },
     "metadata": {
      "needs_background": "light"
     },
     "output_type": "display_data"
    }
   ],
   "source": [
    "sns.scatterplot(data=df,x='prices',y='rom')"
   ]
  },
  {
   "cell_type": "code",
   "execution_count": 67,
   "metadata": {},
   "outputs": [
    {
     "data": {
      "text/plain": [
       "<AxesSubplot:xlabel='prices', ylabel='phones'>"
      ]
     },
     "execution_count": 67,
     "metadata": {},
     "output_type": "execute_result"
    },
    {
     "data": {
      "image/png": "[encoded data removed]",
      "text/plain": [
       "<Figure size 432x288 with 1 Axes>"
      ]
     },
     "metadata": {
      "needs_background": "light"
     },
     "output_type": "display_data"
    }
   ],
   "source": [
    "sns.barplot(data=df,x='prices',y='phones')"
   ]
  },
  {
   "cell_type": "code",
   "execution_count": null,
   "metadata": {},
   "outputs": [],
   "source": []
  }
 ],
 "metadata": {
  "colab": {
   "authorship_tag": "ABX9TyOd8i7GeXWwRYjKdsvrfIFI",
   "include_colab_link": true,
   "provenance": []
  },
  "kernelspec": {
   "display_name": "Python 3 (ipykernel)",
   "language": "python",
   "name": "python3"
  },
  "language_info": {
   "codemirror_mode": {
    "name": "ipython",
    "version": 3
   },
   "file_extension": ".py",
   "mimetype": "text/x-python",
   "name": "python",
   "nbconvert_exporter": "python",
   "pygments_lexer": "ipython3",
   "version": "3.9.7"
  }
 },
 "nbformat": 4,
 "nbformat_minor": 1
}
